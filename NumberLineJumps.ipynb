{
 "cells": [
  {
   "cell_type": "code",
   "execution_count": null,
   "metadata": {},
   "outputs": [],
   "source": []
  },
  {
   "cell_type": "code",
   "execution_count": 1,
   "metadata": {},
   "outputs": [
    {
     "name": "stdout",
     "output_type": "stream",
     "text": [
      "7 11\n",
      "5 15\n",
      "3 2\n",
      "-2 2 1\n",
      "5 -6\n",
      "1\n",
      "1\n"
     ]
    }
   ],
   "source": []
  },
  {
   "cell_type": "code",
   "execution_count": null,
   "metadata": {},
   "outputs": [],
   "source": [
    "\n"
   ]
  },
  {
   "cell_type": "code",
   "execution_count": null,
   "metadata": {},
   "outputs": [],
   "source": []
  },
  {
   "cell_type": "markdown",
   "metadata": {},
   "source": [
    "## Number Line Jumps\n",
    "\n",
    "You are choreographing a circus show with various animals. For one act, you are given two kangaroos on a number line\n",
    "ready to jump in the positive direction (i.e, toward positive infinity).\n",
    "\n",
    "- The first kangaroo starts at location x1 and moves at a rate of v1 meters per jump.\n",
    "- The second kangaroo starts at location x2 and moves at a rate of v2 meters per jump.\n",
    "\n",
    "You have to figure out a way to get both kangaroos at the same location at the same time as part of the show. If it is\n",
    "possible, return YES , otherwise return NO .\n",
    "\n",
    "Example\n",
    "x1 = 2\n",
    "v1 = 1\n",
    "x2 = 1\n",
    "v2 = 2\n",
    "\n",
    "After one jump, they are both at x = 3, (x1 + v1 = 2 + 1, x2 + v2 = 1 + 2), so our answer is\n",
    "YES .\n",
    "\n",
    "\n",
    "Function Description\n",
    "=================\n",
    "Complete the function kangaroo in the editor below. It should return YES if they reach the same position at the same\n",
    "time, or NO if they don't.\n",
    "kangaroo has the following parameter(s):\n",
    "- x1, v1: integers, starting position and jump distance for kangaroo 1\n",
    "- x2, v2: integers, starting position and jump distance for kangaroo 2\n",
    "\n",
    "Returns\n",
    "- string: either YES or NO\n",
    "\n",
    "Input Format\n",
    "A single line of four space-separated integers denoting the respective values of x1, v1, x2, and v2.\n",
    "\n",
    "Constraint\n",
    "- 0 <= x1 < x2 <= 10000\n",
    "- 1 <= v1 <= 10000\n",
    "- 1 <= v2 <= 10000\n",
    "Output Format\n",
    "Print YES if they can land on the same location at the same time; otherwise, print NO .\n",
    "Note: The two kangaroos must land at the same location after making the same number of jumps.\n",
    "\n",
    "Sample Input 0\n",
    "0 3 4 2\n",
    "\n",
    "Sample Output 0\n",
    "YES\n",
    "\n",
    "Explanation 0\n",
    "The two kangaroos jump through the following sequence of locations:\n",
    "From the image, it is clear that the kangaroos meet at the same location (number on the number line) after same\n",
    "number of jumps ( jumps), and we print YES .\n",
    "\n",
    "Sample Input 1\n",
    "0 2 5 3\n",
    "Sample Output 1\n",
    "NO\n",
    "Explanation 1\n",
    "The second kangaroo has a starting location that is ahead (further to the right) of the first kangaroo's starting location\n",
    "(i.e., ). Because the second kangaroo moves at a faster rate (meaning ) and is already ahead of the\n",
    "first kangaroo, the first kangaroo will never be able to catch up. Thus, we print NO"
   ]
  },
  {
   "cell_type": "code",
   "execution_count": null,
   "metadata": {},
   "outputs": [],
   "source": [
    "#!/bin/python3\n",
    "\n",
    "import math\n",
    "import os\n",
    "import random\n",
    "import re\n",
    "import sys\n",
    "\n",
    "#\n",
    "# Complete the 'kangaroo' function below.\n",
    "#\n",
    "# The function is expected to return a STRING.\n",
    "# The function accepts following parameters:\n",
    "#  1. INTEGER x1\n",
    "#  2. INTEGER v1\n",
    "#  3. INTEGER x2\n",
    "#  4. INTEGER v2\n",
    "#\n",
    "\n",
    "def kangaroo(x1, v1, x2, v2):\n",
    "    # Write your code here\n",
    "    # y is the number of jump for two kangeroo to meet\n",
    "    # x1 + v1*y = x2 + v2*y \n",
    "    # x1 - x2 = (v2*y) - (v1*y)\n",
    "    # x1 - x2 = y(v2 - v1)\n",
    "    # (x1-x2)%(v2-v1) == 0 => ans is yes\n",
    "    # x1<x2 means kangaroo1 behind kangaroo2, for both kangaroos to meet \n",
    "    # kangaroo1 must be faster than kangaroo 2. i.e. v1>v2\n",
    "    if v1 > v2 and (x1-x2)%(v2-v1) == 0 :\n",
    "        ans = 'YES'\n",
    "    else:         \n",
    "        ans = 'NO' \n",
    "    \n",
    "    return(ans)\n",
    "\n",
    "if __name__ == '__main__':\n",
    "    fptr = open(os.environ['OUTPUT_PATH'], 'w')\n",
    "\n",
    "    first_multiple_input = input().rstrip().split()\n",
    "\n",
    "    x1 = int(first_multiple_input[0])\n",
    "\n",
    "    v1 = int(first_multiple_input[1])\n",
    "\n",
    "    x2 = int(first_multiple_input[2])\n",
    "\n",
    "    v2 = int(first_multiple_input[3])\n",
    "\n",
    "    result = kangaroo(x1, v1, x2, v2)\n",
    "\n",
    "    fptr.write(result + '\\n')\n",
    "\n",
    "    fptr.close()\n"
   ]
  },
  {
   "cell_type": "code",
   "execution_count": null,
   "metadata": {},
   "outputs": [],
   "source": [
    "\n"
   ]
  }
 ],
 "metadata": {
  "kernelspec": {
   "display_name": "Python 3",
   "language": "python",
   "name": "python3"
  },
  "language_info": {
   "codemirror_mode": {
    "name": "ipython",
    "version": 3
   },
   "file_extension": ".py",
   "mimetype": "text/x-python",
   "name": "python",
   "nbconvert_exporter": "python",
   "pygments_lexer": "ipython3",
   "version": "3.8.3"
  }
 },
 "nbformat": 4,
 "nbformat_minor": 4
}
